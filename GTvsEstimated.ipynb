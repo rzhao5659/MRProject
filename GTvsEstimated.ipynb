{
 "cells": [
  {
   "cell_type": "code",
   "execution_count": 154,
   "id": "1d154d94-d554-40e4-8ae9-0b39deba423e",
   "metadata": {},
   "outputs": [],
   "source": [
    "import matplotlib.pyplot as plt\n",
    "import numpy as np\n",
    "import os\n",
    "import json\n",
    "import pandas as pd"
   ]
  },
  {
   "cell_type": "code",
   "execution_count": 148,
   "id": "a4246007-b348-4f4d-8e4b-2948241a58bd",
   "metadata": {},
   "outputs": [],
   "source": [
    "AprilTags_GT = np.array([[2.18231 ,-1.00241, 0.063497, 2.72273, -1.5252, -3.14159],\n",
    "                         [0.355922 ,-2.52591, 0.182571, -1.55564, 0, 0],\n",
    "                         [-1.37, -1.97239, 0.171619, -1.5899, -0.031668 ,-1.02798],\n",
    "                         [1.93896 ,1.00677, 0.714999, 2.69414, -1.52206, -2.12772],\n",
    "                         [-0.261078 ,2.41413, 0.715152, 1.62084, -0, 0],\n",
    "                         [-2.41415 ,0.847073, 0.231778, -2.56564, 1.55876, -3.14159],\n",
    "                         [-2.42013 ,-0.917198, 0.182987, -0.552575 ,1.51267, 0],\n",
    "                         [-0.330961, -1.21483, 0.145992, 0, 1.56923 ,0],\n",
    "                         [0.15512, 0.022497, 0.284565, 3.14159, -1.53719 ,3.14159],\n",
    "                         [-0.838766, 1.06507, 0.226611, 3.14159, 1.56809, 3.14159],\n",
    "                         [2.00491, -1.32142, 0.311112, -3.05086, -1.48493 ,2.54362],\n",
    "                         [0.933361, 1.27138, 0.299752, 1.59924, 0.047329, 0.001346]])\n",
    "\n",
    "AprilTags_GT = AprilTags_GT[:,:3]"
   ]
  },
  {
   "cell_type": "code",
   "execution_count": 3,
   "id": "0fce9a81-095f-4763-bf62-6e7bf6a70e08",
   "metadata": {},
   "outputs": [],
   "source": [
    "saved_path = \"/home/mlpotter/.ros\""
   ]
  },
  {
   "cell_type": "code",
   "execution_count": 4,
   "id": "6759922b-47a9-45b3-a41f-bfc7616eea43",
   "metadata": {},
   "outputs": [],
   "source": [
    "def parse_json(filename):\n",
    "    f = open(filename)\n",
    "    tag_dict = json.load(f)\n",
    "    f.close()\n",
    "\n",
    "    tag_array = np.zeros((len(tag_dict),3))\n",
    "\n",
    "    for key,value in tag_dict.items():\n",
    "        tag_array[int(key)] = value\n",
    "        \n",
    "    return tag_array\n"
   ]
  },
  {
   "cell_type": "code",
   "execution_count": 5,
   "id": "50d42544-c722-4b63-8b06-e4dae363d27c",
   "metadata": {},
   "outputs": [],
   "source": [
    "AprilTags_CKF = parse_json(os.path.join(saved_path,\"AT_smoothed.json\"))\n",
    "AprilTags_Last = parse_json(os.path.join(saved_path,\"AT_last.json\"))"
   ]
  },
  {
   "cell_type": "code",
   "execution_count": 79,
   "id": "35b109e8-b385-48f8-9f93-be2672de621e",
   "metadata": {},
   "outputs": [],
   "source": [
    "slam_map = np.load(os.path.join(saved_path,'grid_map.npy'))"
   ]
  },
  {
   "cell_type": "code",
   "execution_count": 80,
   "id": "cf158f7b-78e9-4cef-bd9b-ab1941920ad6",
   "metadata": {},
   "outputs": [
    {
     "data": {
      "text/plain": [
       "array([[ 2.18231 , -1.00241 ,  0.063497,  2.72273 , -1.5252  , -3.14159 ],\n",
       "       [ 2.00491 , -1.32142 ,  0.311112, -3.05086 , -1.48493 ,  2.54362 ]])"
      ]
     },
     "execution_count": 80,
     "metadata": {},
     "output_type": "execute_result"
    }
   ],
   "source": [
    "AprilTags_GT[[0,10]]"
   ]
  },
  {
   "cell_type": "code",
   "execution_count": 92,
   "id": "afb7f308-6524-4db0-a201-d8aaae173dd0",
   "metadata": {},
   "outputs": [
    {
     "data": {
      "text/plain": [
       "array([ 0.355922, -2.52591 ,  0.182571, -1.55564 ,  0.      ,  0.      ])"
      ]
     },
     "execution_count": 92,
     "metadata": {},
     "output_type": "execute_result"
    }
   ],
   "source": [
    "AprilTags_GT[1]"
   ]
  },
  {
   "cell_type": "code",
   "execution_count": 123,
   "id": "1a05dea9-0db0-4b8d-a5fe-572dec13b177",
   "metadata": {},
   "outputs": [
    {
     "data": {
      "text/plain": [
       "0.052083333333333336"
      ]
     },
     "execution_count": 123,
     "metadata": {},
     "output_type": "execute_result"
    }
   ],
   "source": [
    "20/384"
   ]
  },
  {
   "cell_type": "code",
   "execution_count": 147,
   "id": "56c31f52-7865-439c-9b69-3944121e05a5",
   "metadata": {},
   "outputs": [
    {
     "data": {
      "text/plain": [
       "<matplotlib.legend.Legend at 0x7efd12fce850>"
      ]
     },
     "execution_count": 147,
     "metadata": {},
     "output_type": "execute_result"
    },
    {
     "data": {
      "image/png": "[encoded data removed]",
      "text/plain": [
       "<Figure size 640x480 with 1 Axes>"
      ]
     },
     "metadata": {},
     "output_type": "display_data"
    }
   ],
   "source": [
    "map_resolution = 0.05\n",
    "height,width  = slam_map.shape\n",
    "xmin,xmax,ymin,ymax = -width/2 *map_resolution,width/2 *map_resolution,-height/2 *map_resolution,height/2 *map_resolution\n",
    "plt.imshow(np.flip(slam_map.T,axis=0),extent=[xmin,xmax,ymax,ymin],cmap='gray') #,origin=[-0.129,0.0074])\n",
    "\n",
    "offset = 0.4\n",
    "plt.plot(AprilTags_GT[:,0]+offset,AprilTags_GT[:,1]-offset,'ro',label=\"GT\")\n",
    "plt.plot(AprilTags_CKF[:,0]+offset,AprilTags_CKF[:,1]-offset,marker='o',color='lime',linestyle=\"\",alpha=0.8,label=\"CKF\")\n",
    "plt.plot(AprilTags_Last[:,0]+offset,AprilTags_Last[:,1]-offset,'co',alpha=0.8,label=\"Last\")\n",
    "plt.xlim([-3.3,3.3])\n",
    "plt.ylim([-3.3,2.5])\n",
    "plt.xlabel(\"x [m]\")\n",
    "plt.ylabel(\"y [m]\")\n",
    "plt.legend(loc=\"upper left\")"
   ]
  },
  {
   "cell_type": "code",
   "execution_count": 160,
   "id": "15c160ba-0dff-46d7-8f69-e103758871cb",
   "metadata": {},
   "outputs": [
    {
     "data": {
      "text/html": [
       "<div>\n",
       "<style scoped>\n",
       "    .dataframe tbody tr th:only-of-type {\n",
       "        vertical-align: middle;\n",
       "    }\n",
       "\n",
       "    .dataframe tbody tr th {\n",
       "        vertical-align: top;\n",
       "    }\n",
       "\n",
       "    .dataframe thead th {\n",
       "        text-align: right;\n",
       "    }\n",
       "</style>\n",
       "<table border=\"1\" class=\"dataframe\">\n",
       "  <thead>\n",
       "    <tr style=\"text-align: right;\">\n",
       "      <th></th>\n",
       "      <th>CKF</th>\n",
       "      <th>Last</th>\n",
       "    </tr>\n",
       "  </thead>\n",
       "  <tbody>\n",
       "    <tr>\n",
       "      <th>Tag0</th>\n",
       "      <td>0.201707</td>\n",
       "      <td>0.469053</td>\n",
       "    </tr>\n",
       "    <tr>\n",
       "      <th>Tag1</th>\n",
       "      <td>0.168103</td>\n",
       "      <td>0.336295</td>\n",
       "    </tr>\n",
       "    <tr>\n",
       "      <th>Tag2</th>\n",
       "      <td>0.101336</td>\n",
       "      <td>0.150464</td>\n",
       "    </tr>\n",
       "    <tr>\n",
       "      <th>Tag3</th>\n",
       "      <td>0.315160</td>\n",
       "      <td>0.461507</td>\n",
       "    </tr>\n",
       "    <tr>\n",
       "      <th>Tag4</th>\n",
       "      <td>0.338751</td>\n",
       "      <td>0.327507</td>\n",
       "    </tr>\n",
       "    <tr>\n",
       "      <th>Tag5</th>\n",
       "      <td>0.144042</td>\n",
       "      <td>0.180915</td>\n",
       "    </tr>\n",
       "    <tr>\n",
       "      <th>Tag6</th>\n",
       "      <td>0.099495</td>\n",
       "      <td>0.031455</td>\n",
       "    </tr>\n",
       "    <tr>\n",
       "      <th>Tag7</th>\n",
       "      <td>0.093663</td>\n",
       "      <td>0.236953</td>\n",
       "    </tr>\n",
       "    <tr>\n",
       "      <th>Tag8</th>\n",
       "      <td>0.049028</td>\n",
       "      <td>0.238195</td>\n",
       "    </tr>\n",
       "    <tr>\n",
       "      <th>Tag9</th>\n",
       "      <td>0.069053</td>\n",
       "      <td>0.264521</td>\n",
       "    </tr>\n",
       "    <tr>\n",
       "      <th>Tag10</th>\n",
       "      <td>0.193626</td>\n",
       "      <td>0.456229</td>\n",
       "    </tr>\n",
       "    <tr>\n",
       "      <th>Tag11</th>\n",
       "      <td>0.058109</td>\n",
       "      <td>0.043435</td>\n",
       "    </tr>\n",
       "  </tbody>\n",
       "</table>\n",
       "</div>"
      ],
      "text/plain": [
       "            CKF      Last\n",
       "Tag0   0.201707  0.469053\n",
       "Tag1   0.168103  0.336295\n",
       "Tag2   0.101336  0.150464\n",
       "Tag3   0.315160  0.461507\n",
       "Tag4   0.338751  0.327507\n",
       "Tag5   0.144042  0.180915\n",
       "Tag6   0.099495  0.031455\n",
       "Tag7   0.093663  0.236953\n",
       "Tag8   0.049028  0.238195\n",
       "Tag9   0.069053  0.264521\n",
       "Tag10  0.193626  0.456229\n",
       "Tag11  0.058109  0.043435"
      ]
     },
     "execution_count": 160,
     "metadata": {},
     "output_type": "execute_result"
    }
   ],
   "source": [
    "ckf_mse = np.linalg.norm(AprilTags_GT-AprilTags_CKF,axis=1)\n",
    "last_mse = np.linalg.norm(AprilTags_GT-AprilTags_Last,axis=1)\n",
    "error_df = pd.DataFrame({\"CKF\":ckf_mse,\"Last\":last_mse},index=[f\"Tag{i}\" for i in range(12)])\n",
    "error_df"
   ]
  }
 ],
 "metadata": {
  "kernelspec": {
   "display_name": "Python 3 (ipykernel)",
   "language": "python",
   "name": "python3"
  },
  "language_info": {
   "codemirror_mode": {
    "name": "ipython",
    "version": 3
   },
   "file_extension": ".py",
   "mimetype": "text/x-python",
   "name": "python",
   "nbconvert_exporter": "python",
   "pygments_lexer": "ipython3",
   "version": "3.8.10"
  }
 },
 "nbformat": 4,
 "nbformat_minor": 5
}
